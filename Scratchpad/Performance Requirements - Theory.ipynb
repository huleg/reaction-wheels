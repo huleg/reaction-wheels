{
 "cells": [
  {
   "cell_type": "markdown",
   "metadata": {},
   "source": [
    "# Background\n",
    "\n",
    "There are two parts to our reaction control system, the reaction wheels and the magnetorquer\n",
    "\n",
    "The magnetorquer will maintain spacecraft orientation relative to the sun, and slowly desaturate the reaction wheels after short-time scale maneuvers. It needs to be strong enough to offset any extrinsic torque on the spacecraft. The magnetorquer can only apply torque on the two axes orthogonal to the earth's magnetic field.\n",
    "\n",
    "The reaction wheels will provide precise control of pointing and angular velocity over short timescales, and will allow the spacecraft to rotate around the axis of the earth's magnetic field"
   ]
  },
  {
   "cell_type": "markdown",
   "metadata": {},
   "source": [
    "# Extrinsic Torque\n",
    "\n",
    "How strong is the extrinsic torque on the spacecraft?\n",
    "\n",
    "Possible sources include atmospheric drag, solar radiation pressure, thermal radiation (others?)\n",
    "\n",
    "It might be safe to assume that atmospheric drag is the most significant source of extrinsic torque. From the code below, it seems like torque due to atmospheric drag will be on the order of 1e-4 Nm"
   ]
  },
  {
   "cell_type": "code",
   "execution_count": 1,
   "metadata": {
    "collapsed": false
   },
   "outputs": [
    {
     "name": "stdout",
     "output_type": "stream",
     "text": [
      "altitude = 330 km\n",
      "ballistic coefficient = 2.2\n",
      "area = 0.06 m^2\n",
      "atmospheric pressure = 1.92e-11 kg/m^3\n",
      "orbital velocity = 7.73e+03 m/s\n",
      "\n",
      "Fdrag = 0.008 grams force\n",
      "Tdrag = 1e-05 Nm\n",
      "Tdrag = 8e-06 ft lbf\n"
     ]
    }
   ],
   "source": [
    "import math as m\n",
    "import matplotlib.pyplot as plt\n",
    "import numpy as np\n",
    "\n",
    "# all units kilogram-meter-second\n",
    "altitude = 330e3 # 200km is lower bound seen on nanosats.eu. 330 is orbit of ISS\n",
    "rad_earth = 6367e3\n",
    "u = 4*10**14 # standard gravitational parameter \n",
    "a = rad_earth + altitude\n",
    "v = m.sqrt(u/a)\n",
    "Cd = 2.2 # from http://digitalcommons.usu.edu/cgi/viewcontent.cgi?article=1144&context=smallsat\n",
    "area = 0.2*0.3 # planetary labs-style 3u cubesat w/ solar panels extended and facing into the wind\n",
    "lever_arm = 0.15 # half the length of a 3u cubesat\n",
    "\n",
    "# altitude (km), density (kg/m^3) during low, avg, high solar activity\n",
    "# from http://www.braeunig.us/space/atmos.htm\n",
    "msise_90 = np.array([\n",
    "[0,     1.17e+00,   1.17e+00,   1.16e+00],\n",
    "[40,    4.07e-03,   4.07e-03,   4.04e-03],\n",
    "[80,    1.69e-05,   1.68e-05,   1.68e-05],\n",
    "[120,   1.70e-08,   1.80e-08,   2.34e-08],\n",
    "[160,   9.65e-10,   1.18e-09,   2.23e-09],\n",
    "[200,   1.75e-10,   2.91e-10,   8.28e-10],\n",
    "[240,   4.31e-11,   9.91e-11,   4.08e-10],\n",
    "[300,   7.22e-12,   2.58e-11,   1.71e-10],\n",
    "[400,   5.68e-13,   3.89e-12,   5.04e-11],\n",
    "[500,   6.03e-14,   7.30e-13,   1.70e-11],\n",
    "[600,   1.03e-14,   1.56e-13,   6.20e-12],\n",
    "[700,   3.58e-15,   3.91e-14,   2.38e-12],\n",
    "[900,   1.18e-15,   5.46e-15,   4.03e-13],\n",
    "])\n",
    "\n",
    "p = np.interp(altitude, 1000*msise_90[:,0], msise_90[:,2])\n",
    "\n",
    "print('altitude = {:.3g} km'.format(altitude/1000))\n",
    "print('ballistic coefficient = {:.3g}'.format(Cd))\n",
    "print('area = {:.3g} m^2'.format(area))\n",
    "print('atmospheric pressure = {:.3g} kg/m^3'.format(p))\n",
    "print('orbital velocity = {:.3g} m/s'.format(v))\n",
    "\n",
    "# from https://www.ll.mit.edu/publications/journal/pdf/vol01_no2/1.2.6.satellitedrag.pdf\n",
    "Fdrag = (1/2) * Cd * area * p * v**2\n",
    "\n",
    "print()\n",
    "\n",
    "#print('Fdrag = {:.1g} kg*m/s^2'.format(Fdrag))\n",
    "print('Fdrag = {:.1g} grams force'.format(Fdrag*102))\n",
    "#print('Fdrag = {:.1g} lbf'.format(Fdrag*0.2248))\n",
    "\n",
    "print('Tdrag = {:.1g} Nm'.format(Fdrag*lever_arm))\n",
    "print('Tdrag = {:.1g} ft lbf'.format(Fdrag*lever_arm*.7376))"
   ]
  },
  {
   "cell_type": "markdown",
   "metadata": {},
   "source": [
    "# Moment of Inertia\n",
    "\n",
    "What's the moment of inertia for the spacecraft?\n",
    "On the order of 1e0 Nm s^2\n",
    "\n",
    "From http://www.diracdelta.co.uk/science/source/m/o/moments%20of%20inertia/source.html#.V_a-KbWYqRs,\n",
    "\n",
    "    Solid Cuboid Moment of Inertia\n",
    "    mass, m =\t3 \tkg\n",
    "    length, a =\t0.1 \tm\n",
    "    length, b =\t0.1 \tm\n",
    "    length, c =\t3 \tm\n",
    "    moment of inertia, I1 =\t2.2525 \tkgm2\n",
    "    moment of inertia, I2 =\t2.2525 \tkgm2\n",
    "    moment of inertia, I3 =\t0.005000000000000001 \tkgm2\n",
    "\n",
    "\n",
    "\n",
    "What's the moment of inertia for a bare motor?\n",
    "On the order of 1e-6 Nm s^2\n",
    "\n",
    "    Solid Cylinder Moment of Inertia\n",
    "    mass, m =\t0.01 \tkg\n",
    "    radius, r =\t0.022 \tm\n",
    "    length, L =\t0.006 \tm\n",
    "    moment of inertia, I1,I2 =\t0.0000012399999999999998 \tkgm2\n",
    "    moment of inertia, I3 =\t0.00000241\n",
    "\n",
    "From the cubesat spec, \n",
    "        \n",
    "    3.2.14 The CubeSat center of gravity shall be located within 2 cm from its geometric center in\n",
    "    the X and Y direction.\n",
    "    3.2.14.1 The 1U CubeSat center of gravity shall be located within 2 cm from its geometric\n",
    "    center in the Z direction.\n"
   ]
  },
  {
   "cell_type": "markdown",
   "metadata": {
    "collapsed": false
   },
   "source": [
    "# Rate of Rotation Passing over Ground Station\n",
    "\n",
    "We don't care about constant rotational velocity but we do care about spinning up from a stationary, sun tracking state to a gently turning, ground station tracking state. We care because we need to store that angular momentum in the reaction wheels.\n",
    "\n",
    "\n",
    "\n",
    "\n",
    "\n",
    "\n",
    "\n",
    "\n"
   ]
  },
  {
   "cell_type": "code",
   "execution_count": 4,
   "metadata": {
    "collapsed": false
   },
   "outputs": [
    {
     "name": "stdout",
     "output_type": "stream",
     "text": [
      "angular rate for tracking = 2 degrees / s\n"
     ]
    }
   ],
   "source": [
    "import math as m\n",
    "\n",
    "# all units kilogram-meter-second\n",
    "altitude = 330e3 # lower bound seen on nanosats.eu\n",
    "rad_earth = 6367e3\n",
    "u = 4*10**14 # standard gravitational parameter \n",
    "a = rad_earth + altitude\n",
    "v = m.sqrt(u/a)\n",
    "\n",
    "w = m.degrees(m.asin(v/altitude))\n",
    "\n",
    "print (\"angular rate for tracking = {:.1g} degrees / s\".format(w))"
   ]
  },
  {
   "cell_type": "code",
   "execution_count": null,
   "metadata": {
    "collapsed": true
   },
   "outputs": [],
   "source": []
  }
 ],
 "metadata": {
  "kernelspec": {
   "display_name": "Python 3",
   "language": "python",
   "name": "python3"
  },
  "language_info": {
   "codemirror_mode": {
    "name": "ipython",
    "version": 3
   },
   "file_extension": ".py",
   "mimetype": "text/x-python",
   "name": "python",
   "nbconvert_exporter": "python",
   "pygments_lexer": "ipython3",
   "version": "3.5.2"
  }
 },
 "nbformat": 4,
 "nbformat_minor": 0
}
